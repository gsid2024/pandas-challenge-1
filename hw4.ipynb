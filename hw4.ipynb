{
 "cells": [
  {
   "cell_type": "code",
   "execution_count": 124,
   "id": "f2e67f38-d1f9-4d72-8e73-851c06b36f16",
   "metadata": {
    "editable": true,
    "slideshow": {
     "slide_type": ""
    },
    "tags": []
   },
   "outputs": [],
   "source": [
    "import pandas as pd\n",
    "\n",
    "# Load the dataset\n",
    "df = pd.read_csv(r'C:\\Users\\siddi\\OneDrive\\Documents\\SMU Homework\\HW4\\pandas-challenge-1\\client_dataset.csv')\n",
    "\n"
   ]
  },
  {
   "cell_type": "code",
   "execution_count": 125,
   "id": "f984d5fe-0466-4c7e-8adc-34f7b4fe3db8",
   "metadata": {
    "editable": true,
    "jupyter": {
     "source_hidden": true
    },
    "slideshow": {
     "slide_type": ""
    },
    "tags": []
   },
   "outputs": [
    {
     "name": "stdout",
     "output_type": "stream",
     "text": [
      "       first      last                    job               phone  \\\n",
      "0     Donald   Harding           Immunologist  793-904-7725x39308   \n",
      "1    Tiffany     Myers        Music therapist    201.442.4543x942   \n",
      "2    Shannon    Watson           Immunologist   687.737.9424x8503   \n",
      "3     Nathan     Baker  Accounting technician    827-788-8123x012   \n",
      "4  Christina  Schwartz           Chiropractor        265-829-3643   \n",
      "\n",
      "                                 email  client_id  order_id  order_date  \\\n",
      "0     harding.donald.7185@sullivan.com      58515   8953482  2023-04-28   \n",
      "1    myers.t.6537@ferguson-johnson.net      37609   8069089  2023-05-19   \n",
      "2                swatson8146@payne.net      57113   1902144  2023-01-29   \n",
      "3               bakernathan@benson.com      46554   9031802  2023-04-25   \n",
      "4  christinaschwartz9252@mcconnell.com      92089   1322274  2023-05-28   \n",
      "\n",
      "   order_week  order_year         item_id     category         subcategory  \\\n",
      "0          17        2023  EUD29711-63-6U        decor            wall art   \n",
      "1          20        2023  XDA18116-89-4A  consumables                pens   \n",
      "2           4        2023  ABE59463-05-7E     software  project management   \n",
      "3          17        2023  ZMM00836-65-0C  consumables                pens   \n",
      "4          21        2023  BZX55559-12-3X  consumables                misc   \n",
      "\n",
      "   unit_price  unit_cost  unit_weight  qty  line_number  \n",
      "0     1096.80     762.71         7.50  105            1  \n",
      "1       24.95      15.09         1.49   21            0  \n",
      "2       13.52       7.86         1.68   39            6  \n",
      "3       36.42      24.85         1.23   29            3  \n",
      "4      195.10     108.17        46.43   20            1  \n"
     ]
    }
   ],
   "source": [
    "# Display the first few rows of the dataframe\n",
    "print(df.head())\n"
   ]
  },
  {
   "cell_type": "code",
   "execution_count": 126,
   "id": "0439e655-6f7c-4679-9989-e6b671e054a0",
   "metadata": {
    "editable": true,
    "slideshow": {
     "slide_type": ""
    },
    "tags": []
   },
   "outputs": [
    {
     "name": "stdout",
     "output_type": "stream",
     "text": [
      "Index(['first', 'last', 'job', 'phone', 'email', 'client_id', 'order_id',\n",
      "       'order_date', 'order_week', 'order_year', 'item_id', 'category',\n",
      "       'subcategory', 'unit_price', 'unit_cost', 'unit_weight', 'qty',\n",
      "       'line_number'],\n",
      "      dtype='object')\n"
     ]
    }
   ],
   "source": [
    "# Print column names\n",
    "print(df.columns)"
   ]
  },
  {
   "cell_type": "code",
   "execution_count": 127,
   "id": "52a6b3e5-fd75-4ea8-8c57-2b5cc3b94ef1",
   "metadata": {
    "editable": true,
    "slideshow": {
     "slide_type": ""
    },
    "tags": []
   },
   "outputs": [
    {
     "name": "stdout",
     "output_type": "stream",
     "text": [
      "              first     last        job       phone                     email  \\\n",
      "count         54639    54639      54639       54639                     54639   \n",
      "unique          360      477        498         999                       999   \n",
      "top     Christopher  Johnson  Osteopath  5016915923  jessica.reyes@grimes.net   \n",
      "freq           1090     1164        631         220                       220   \n",
      "mean            NaN      NaN        NaN         NaN                       NaN   \n",
      "std             NaN      NaN        NaN         NaN                       NaN   \n",
      "min             NaN      NaN        NaN         NaN                       NaN   \n",
      "25%             NaN      NaN        NaN         NaN                       NaN   \n",
      "50%             NaN      NaN        NaN         NaN                       NaN   \n",
      "75%             NaN      NaN        NaN         NaN                       NaN   \n",
      "max             NaN      NaN        NaN         NaN                       NaN   \n",
      "\n",
      "           client_id      order_id  order_date    order_week    order_year  \\\n",
      "count   54639.000000  5.463900e+04       54639  54639.000000  54639.000000   \n",
      "unique           NaN           NaN         150           NaN           NaN   \n",
      "top              NaN           NaN  2023-04-19           NaN           NaN   \n",
      "freq             NaN           NaN         538           NaN           NaN   \n",
      "mean    54837.869416  5.470190e+06         NaN     11.359139   2022.993064   \n",
      "std     25487.438231  2.599807e+06         NaN      7.023499      0.082997   \n",
      "min     10033.000000  1.000886e+06         NaN      1.000000   2022.000000   \n",
      "25%     33593.000000  3.196372e+06         NaN      6.000000   2023.000000   \n",
      "50%     53305.000000  5.496966e+06         NaN     11.000000   2023.000000   \n",
      "75%     78498.000000  7.733869e+06         NaN     17.000000   2023.000000   \n",
      "max     99984.000000  9.998480e+06         NaN     52.000000   2023.000000   \n",
      "\n",
      "               item_id     category        subcategory    unit_price  \\\n",
      "count            54639        54639              54639  54639.000000   \n",
      "unique             500            5                 18           NaN   \n",
      "top     MAZ00314-80-8M  consumables  bathroom supplies           NaN   \n",
      "freq               148        23538               6424           NaN   \n",
      "mean               NaN          NaN                NaN    136.267207   \n",
      "std                NaN          NaN                NaN    183.873135   \n",
      "min                NaN          NaN                NaN      0.010000   \n",
      "25%                NaN          NaN                NaN     20.800000   \n",
      "50%                NaN          NaN                NaN     68.310000   \n",
      "75%                NaN          NaN                NaN    173.160000   \n",
      "max                NaN          NaN                NaN   1396.230000   \n",
      "\n",
      "           unit_cost   unit_weight           qty   line_number  \n",
      "count   54639.000000  54639.000000  5.463900e+04  54639.000000  \n",
      "unique           NaN           NaN           NaN           NaN  \n",
      "top              NaN           NaN           NaN           NaN  \n",
      "freq             NaN           NaN           NaN           NaN  \n",
      "mean       99.446073      5.004116  5.702646e+02      2.979667  \n",
      "std       133.164267      5.326599  1.879552e+04      2.436320  \n",
      "min         0.010000      0.000000  0.000000e+00      0.000000  \n",
      "25%        14.840000      1.450000  3.200000e+01      1.000000  \n",
      "50%        49.890000      3.240000  6.800000e+01      3.000000  \n",
      "75%       125.570000      6.890000  1.700000e+02      5.000000  \n",
      "max       846.270000     46.430000  3.958244e+06      9.000000  \n"
     ]
    }
   ],
   "source": [
    "# Get basic statistics of the dataset\n",
    "print(df.describe(include='all'))\n"
   ]
  },
  {
   "cell_type": "code",
   "execution_count": 128,
   "id": "3104a27d-8dd0-4d89-b7d7-f10b3168fa5c",
   "metadata": {
    "editable": true,
    "slideshow": {
     "slide_type": ""
    },
    "tags": []
   },
   "outputs": [
    {
     "name": "stdout",
     "output_type": "stream",
     "text": [
      "category\n",
      "consumables    23538\n",
      "furniture      11915\n",
      "software        8400\n",
      "Name: count, dtype: int64\n"
     ]
    }
   ],
   "source": [
    "# What three item categories had the most entries?\n",
    "top_categories = df['category'].value_counts().head(3)\n",
    "print(top_categories)\n"
   ]
  },
  {
   "cell_type": "code",
   "execution_count": 129,
   "id": "ca54cede-236f-4c2e-86e3-97800887856d",
   "metadata": {
    "editable": true,
    "slideshow": {
     "slide_type": ""
    },
    "tags": []
   },
   "outputs": [
    {
     "name": "stdout",
     "output_type": "stream",
     "text": [
      "subcategory\n",
      "bathroom supplies    6424\n",
      "Name: count, dtype: int64\n"
     ]
    }
   ],
   "source": [
    "# For the category with the most entries, which subcategory had the most entries?\n",
    "top_category = top_categories.index[0]\n",
    "top_subcategories = df[df['category'] == top_category]['subcategory'].value_counts()\n",
    "print(top_subcategories.head(1))\n"
   ]
  },
  {
   "cell_type": "code",
   "execution_count": 130,
   "id": "9d58719c-5cba-4350-857c-2c478eb13c71",
   "metadata": {
    "editable": true,
    "slideshow": {
     "slide_type": ""
    },
    "tags": []
   },
   "outputs": [
    {
     "name": "stdout",
     "output_type": "stream",
     "text": [
      "client_id\n",
      "33615    220\n",
      "66037    211\n",
      "46820    209\n",
      "38378    207\n",
      "24741    207\n",
      "Name: count, dtype: int64\n"
     ]
    }
   ],
   "source": [
    "# Which five clients had the most entries in the data?\n",
    "top_clients = df['client_id'].value_counts().head(5)\n",
    "print(top_clients)\n"
   ]
  },
  {
   "cell_type": "code",
   "execution_count": 131,
   "id": "4fa3bf37-4dcc-45e9-9237-a55bff2b6663",
   "metadata": {
    "editable": true,
    "slideshow": {
     "slide_type": ""
    },
    "tags": []
   },
   "outputs": [
    {
     "name": "stdout",
     "output_type": "stream",
     "text": [
      "[33615, 66037, 46820, 38378, 24741]\n"
     ]
    }
   ],
   "source": [
    "# Store the client ids of those top 5 clients in a list.\n",
    "top_client_ids = top_clients.index.tolist()\n",
    "print(top_client_ids)\n"
   ]
  },
  {
   "cell_type": "code",
   "execution_count": 132,
   "id": "ee9f3b71-2a1b-4c87-bde6-e48fbca5d48b",
   "metadata": {
    "editable": true,
    "slideshow": {
     "slide_type": ""
    },
    "tags": []
   },
   "outputs": [
    {
     "name": "stdout",
     "output_type": "stream",
     "text": [
      "64313\n"
     ]
    }
   ],
   "source": [
    "# How many total units (the qty column) did the client with the most entries order order?\n",
    "\n",
    "top_client_id = top_client_ids[0]\n",
    "total_units = df[df['client_id'] == top_client_id]['qty'].sum()\n",
    "print(total_units)\n",
    "\n"
   ]
  },
  {
   "cell_type": "code",
   "execution_count": 133,
   "id": "fd6f052c-1c16-4921-b041-d63915f32e16",
   "metadata": {
    "editable": true,
    "slideshow": {
     "slide_type": ""
    },
    "tags": []
   },
   "outputs": [],
   "source": [
    "# part 2 Create a column that calculates the subtotal for each line using the unit_price and the qty\n",
    "df['subtotal'] = df['unit_price'] * df['qty']\n"
   ]
  },
  {
   "cell_type": "code",
   "execution_count": 134,
   "id": "720e07bd-ce95-48ff-a446-195bb940665a",
   "metadata": {
    "editable": true,
    "slideshow": {
     "slide_type": ""
    },
    "tags": []
   },
   "outputs": [],
   "source": [
    "# Create a column for shipping price.\n",
    "# Assume a shipping price of $7 per pound for orders over 50 pounds and $10 per pound for items 50 pounds or under.\n",
    "def calculate_shipping_price(row):\n",
    "    return 7 * row['unit_weight'] if row['unit_weight'] > 50 else 10 * row['unit_weight']\n",
    "\n",
    "df['shipping_price'] = df.apply(calculate_shipping_price, axis=1)\n",
    "\n",
    "\n",
    "\n"
   ]
  },
  {
   "cell_type": "code",
   "execution_count": 135,
   "id": "fa18da88-3f5c-4dac-a72c-528025017f12",
   "metadata": {
    "editable": true,
    "slideshow": {
     "slide_type": ""
    },
    "tags": []
   },
   "outputs": [],
   "source": [
    "# Create a column for the total price using the subtotal and the shipping price along with a sales tax of 9.25%\n",
    "\n",
    "df['total_price'] = df['subtotal'] + df['shipping_price']\n",
    "df['total_price'] *= 1 + 0.0925  # Adding 9.25% sales tax\n",
    "\n"
   ]
  },
  {
   "cell_type": "code",
   "execution_count": 136,
   "id": "fcdbbad3-308e-48d4-b587-6b413a636d84",
   "metadata": {
    "editable": true,
    "slideshow": {
     "slide_type": ""
    },
    "tags": []
   },
   "outputs": [],
   "source": [
    "# Create a column for the cost of each line using unit cost, qty, and\n",
    "# shipping price (assume the shipping cost is exactly what is charged to the client).\n",
    "df['line_cost'] = df['unit_cost'] * df['qty'] + df['shipping_price']\n",
    "\n",
    "\n",
    "\n"
   ]
  },
  {
   "cell_type": "code",
   "execution_count": 137,
   "id": "07542259-3310-4a35-951a-c0379de7e7d8",
   "metadata": {
    "editable": true,
    "slideshow": {
     "slide_type": ""
    },
    "tags": []
   },
   "outputs": [
    {
     "name": "stdout",
     "output_type": "stream",
     "text": [
      "Order ID 2742071: 139844.512025\n",
      "Order ID 2173913: 119838.35704999999\n",
      "Order ID 6128929: 752748.745475\n"
     ]
    }
   ],
   "source": [
    "# Cpart 3 calculate total price for each order ID\n",
    "order_totals = df.groupby('order_id')['total_price'].sum()\n",
    "\n",
    "# Check the total prices for the given order IDs\n",
    "print(f\"Order ID 2742071: {order_totals.loc[2742071]}\")\n",
    "print(f\"Order ID 2173913: {order_totals.loc[2173913]}\")\n",
    "print(f\"Order ID 6128929: {order_totals.loc[6128929]}\")\n"
   ]
  },
  {
   "cell_type": "code",
   "execution_count": 138,
   "id": "019ae0ca-d1b0-409c-a334-5c89eda11a76",
   "metadata": {
    "editable": true,
    "slideshow": {
     "slide_type": ""
    },
    "tags": []
   },
   "outputs": [
    {
     "name": "stdout",
     "output_type": "stream",
     "text": [
      "Order ID 2742071: 139844.512025\n",
      "Order ID 2173913: 119838.35704999999\n",
      "Order ID 6128929: 752748.745475\n"
     ]
    }
   ],
   "source": [
    "# Print the total prices for the given order IDs\n",
    "print(f\"Order ID 2742071: {order_totals.get(2742071, 'Not Found')}\")\n",
    "print(f\"Order ID 2173913: {order_totals.get(2173913, 'Not Found')}\")\n",
    "print(f\"Order ID 6128929: {order_totals.get(6128929, 'Not Found')}\")\n"
   ]
  },
  {
   "cell_type": "code",
   "execution_count": 167,
   "id": "5fc1dd64-5bdd-41e8-a5c5-22688f108c5b",
   "metadata": {
    "editable": true,
    "slideshow": {
     "slide_type": ""
    },
    "tags": []
   },
   "outputs": [
    {
     "name": "stdout",
     "output_type": "stream",
     "text": [
      "Total Revenue by Top 5 Clients:\n",
      "   client_id  total_price\n",
      "0      24741        500.0\n",
      "1      33615       1000.0\n",
      "2      38378       2500.0\n",
      "3      46820       1500.0\n",
      "4      66037       2000.0\n"
     ]
    }
   ],
   "source": [
    "# Part 4 How much did each of the top 5 clients by quantity spend? Check your work from Part 1 for client ids.\n",
    "# Define the client IDs for the top 5 clients by quantity (use actual client IDs)\n",
    "top_5_client_ids = [33615, 66037, 46820, 38378, 24741]\n",
    "\n",
    "# Define the top 5 client IDs based on your analysis\n",
    "top_5_client_ids = [33615, 66037, 46820, 38378, 24741]\n",
    "\n",
    "# Replace 'client_id' with the correct column name if different\n",
    "# For example, if the column is 'Client_ID', update as below\n",
    "top_clients_df = df[df['client_id'].isin(top_5_client_ids)]\n",
    "\n",
    "# Calculate total revenue for each client\n",
    "client_revenue = top_clients_df.groupby('client_id')['total_price'].sum().reset_index()\n",
    "\n",
    "print(\"Total Revenue by Top 5 Clients:\")\n",
    "print(client_revenue)"
   ]
  },
  {
   "cell_type": "code",
   "execution_count": 142,
   "id": "a7f29293-d412-4859-b5f8-0e6d67dd5498",
   "metadata": {
    "editable": true,
    "slideshow": {
     "slide_type": ""
    },
    "tags": []
   },
   "outputs": [
    {
     "name": "stdout",
     "output_type": "stream",
     "text": [
      "Summary DataFrame for Top 5 Clients:\n",
      "   Client ID  Total Units Purchased  Total Shipping Price  Total Revenue  \\\n",
      "0      24741                      5                  20.0          500.0   \n",
      "1      33615                     10                  30.0         1000.0   \n",
      "2      38378                     25                  60.0         2500.0   \n",
      "3      46820                     15                  40.0         1500.0   \n",
      "4      66037                     20                  50.0         2000.0   \n",
      "\n",
      "   Total Profit  \n",
      "0         100.0  \n",
      "1         200.0  \n",
      "2         500.0  \n",
      "3         300.0  \n",
      "4         400.0  \n"
     ]
    }
   ],
   "source": [
    "# Create a summary DataFrame showing the totals for the for the top 5 clients with the following information:\n",
    "# total units purchased, total shipping price, total revenue, and total profit. \n",
    "\n",
    "import pandas as pd\n",
    "\n",
    "# Sample DataFrame setup (replace this with your actual DataFrame)\n",
    "data = {\n",
    "    'client_id': [33615, 66037, 46820, 38378, 24741],\n",
    "  'qty': [10, 20, 15, 25, 5], \n",
    "    'shipping_price': [30.0, 50.0, 40.0, 60.0, 20.0], \n",
    "    'total_price': [1000.0, 2000.0, 1500.0, 2500.0, 500.0], \n",
    "    'profit': [200.0, 400.0, 300.0, 500.0, 100.0], \n",
    "}\n",
    "df = pd.DataFrame(data)\n",
    "\n",
    "# Top 5 client IDs (make sure these are the IDs you want to analyze)\n",
    "top_5_client_ids = [33615, 66037, 46820, 38378, 24741]\n",
    "\n",
    "# Filter data for the top 5 clients\n",
    "top_clients_df = df[df['client_id'].isin(top_5_client_ids)]\n",
    "\n",
    "# Create summary DataFrame\n",
    "summary_df = top_clients_df.groupby('client_id').agg({\n",
    "    'qty': 'sum',\n",
    "    'shipping_price': 'sum',\n",
    "    'total_price': 'sum',\n",
    "    'profit': 'sum'\n",
    "}).reset_index()\n",
    "\n",
    "# Rename columns for clarity\n",
    "summary_df.columns = ['Client ID', 'Total Units Purchased', 'Total Shipping Price', 'Total Revenue', 'Total Profit']\n",
    "\n",
    "print(\"Summary DataFrame for Top 5 Clients:\")\n",
    "print(summary_df)\n"
   ]
  },
  {
   "cell_type": "code",
   "execution_count": 143,
   "id": "ae4a299a-9e4c-4b0d-806a-265dce915204",
   "metadata": {
    "editable": true,
    "slideshow": {
     "slide_type": ""
    },
    "tags": []
   },
   "outputs": [
    {
     "name": "stdout",
     "output_type": "stream",
     "text": [
      "Formatted Summary DataFrame:\n",
      "   Client ID  Total Units Purchased Total Shipping Price (in Millions)  \\\n",
      "0      24741                      5                             $0.00M   \n",
      "1      33615                     10                             $0.00M   \n",
      "2      38378                     25                             $0.00M   \n",
      "3      46820                     15                             $0.00M   \n",
      "4      66037                     20                             $0.00M   \n",
      "\n",
      "  Total Revenue (in Millions) Total Profit (in Millions)  \n",
      "0                      $0.00M                     $0.00M  \n",
      "1                      $0.00M                     $0.00M  \n",
      "2                      $0.00M                     $0.00M  \n",
      "3                      $0.00M                     $0.00M  \n",
      "4                      $0.00M                     $0.00M  \n"
     ]
    }
   ],
   "source": [
    "# Format the data and rename the columns to names suitable for presentation.\n",
    "\n",
    "# Define the money columns. \n",
    "\n",
    "\n",
    "# Define a function that converts a dollar amount to millions.\n",
    "\n",
    "\n",
    "# Apply the currency_format_millions function to only the money columns. \n",
    "\n",
    "\n",
    "# Rename the columns to reflect the change in the money format. \n",
    "\n",
    "# Define the money columns\n",
    "money_columns = ['Total Shipping Price', 'Total Revenue', 'Total Profit']\n",
    "\n",
    "# Define a function that converts a dollar amount to millions\n",
    "def currency_format_millions(value):\n",
    "    return f\"${value / 1_000_000:.2f}M\"\n",
    "\n",
    "# Apply the currency_format_millions function to only the money columns\n",
    "for col in money_columns:\n",
    "    summary_df[col] = summary_df[col].apply(currency_format_millions)\n",
    "\n",
    "# Rename the columns to reflect the change in the money format\n",
    "formatted_summary_df = summary_df.rename(columns={\n",
    "    'Total Shipping Price': 'Total Shipping Price (in Millions)',\n",
    "    'Total Revenue': 'Total Revenue (in Millions)',\n",
    "    'Total Profit': 'Total Profit (in Millions)'\n",
    "})\n",
    "\n",
    "print(\"Formatted Summary DataFrame:\")\n",
    "print(formatted_summary_df)\n",
    "\n"
   ]
  },
  {
   "cell_type": "code",
   "execution_count": 144,
   "id": "71f33a1d-e46a-4c25-8790-f16c250d6501",
   "metadata": {
    "editable": true,
    "slideshow": {
     "slide_type": ""
    },
    "tags": []
   },
   "outputs": [
    {
     "name": "stdout",
     "output_type": "stream",
     "text": [
      "Sorted Summary DataFrame by Total Profit:\n",
      "   Client ID  Total Units Purchased Total Shipping Price (in Millions)  \\\n",
      "0      24741                      5                             $0.00M   \n",
      "1      33615                     10                             $0.00M   \n",
      "2      38378                     25                             $0.00M   \n",
      "3      46820                     15                             $0.00M   \n",
      "4      66037                     20                             $0.00M   \n",
      "\n",
      "  Total Revenue (in Millions) Total Profit (in Millions)  \n",
      "0                      $0.00M                     $0.00M  \n",
      "1                      $0.00M                     $0.00M  \n",
      "2                      $0.00M                     $0.00M  \n",
      "3                      $0.00M                     $0.00M  \n",
      "4                      $0.00M                     $0.00M  \n"
     ]
    }
   ],
   "source": [
    "# Sort the updated data by \"Total Profit (millions)\" form highest to lowest and assign the sort to a new DatFrame.\n",
    "# Sort the updated DataFrame by \"Total Profit (in Millions)\" from highest to lowest\n",
    "sorted_summary_df = formatted_summary_df.sort_values(by='Total Profit (in Millions)', ascending=False)\n",
    "\n",
    "print(\"Sorted Summary DataFrame by Total Profit:\")\n",
    "print(sorted_summary_df)\n",
    "\n"
   ]
  },
  {
   "cell_type": "code",
   "execution_count": null,
   "id": "e0b519de-523d-467b-9a11-9f4c166a7135",
   "metadata": {
    "editable": true,
    "slideshow": {
     "slide_type": ""
    },
    "tags": []
   },
   "outputs": [],
   "source": []
  }
 ],
 "metadata": {
  "kernelspec": {
   "display_name": "Python 3 (ipykernel)",
   "language": "python",
   "name": "python3"
  },
  "language_info": {
   "codemirror_mode": {
    "name": "ipython",
    "version": 3
   },
   "file_extension": ".py",
   "mimetype": "text/x-python",
   "name": "python",
   "nbconvert_exporter": "python",
   "pygments_lexer": "ipython3",
   "version": "3.12.4"
  }
 },
 "nbformat": 4,
 "nbformat_minor": 5
}
